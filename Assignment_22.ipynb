{
 "cells": [
  {
   "cell_type": "markdown",
   "id": "7b7674ac",
   "metadata": {},
   "source": [
    "1. What is the result of the code, and explain?\n",
    "\n",
    "&gt;&gt;&gt; X = &#39;iNeuron&#39;\n",
    "<br>&gt;&gt;&gt; def func():\n",
    "<br>print(X)\n",
    "\n",
    "&gt;&gt;&gt; func()\n",
    "\n"
   ]
  },
  {
   "cell_type": "markdown",
   "id": "fa8d8450",
   "metadata": {},
   "source": [
    "Answer  ---Will print iNeuron. We have created a function func that prints the variable X "
   ]
  },
  {
   "cell_type": "markdown",
   "id": "cc298353",
   "metadata": {},
   "source": [
    "2. What is the result of the code, and explain?\n",
    "\n",
    "&gt;&gt;&gt; X = &#39;iNeuron&#39;\n",
    "\n",
    "&gt;&gt;&gt; def func():\n",
    "\n",
    "X = &#39;NI!&#39;\n",
    "\n",
    "&gt;&gt;&gt; func()\n",
    "\n",
    "&gt;&gt;&gt; print(X)"
   ]
  },
  {
   "cell_type": "markdown",
   "id": "69f30182",
   "metadata": {},
   "source": [
    "Answer-- X='Ni' is local variable to the function func() hence when we ran the function and then print(X) the value of \n",
    "<br> X was not changed to 'Ni'"
   ]
  },
  {
   "cell_type": "code",
   "execution_count": 6,
   "id": "66b21eb8",
   "metadata": {},
   "outputs": [
    {
     "name": "stdout",
     "output_type": "stream",
     "text": [
      "iNeuron\n"
     ]
    }
   ],
   "source": [
    "X = 'iNeuron'\n",
    "def func():\n",
    "    X='Ni'\n",
    "func()\n",
    "print(X)"
   ]
  },
  {
   "cell_type": "markdown",
   "id": "f5702be4",
   "metadata": {},
   "source": [
    "3. What does this code print, and why?\n",
    "\n",
    "&gt;&gt;&gt; X = &#39;iNeuron&#39;\n",
    "\n",
    "&gt;&gt;&gt; def func():\n",
    "\n",
    "X = &#39;NI&#39;\n",
    "\n",
    "print(X)\n",
    "\n",
    "&gt;&gt;&gt; func()\n",
    "\n",
    "&gt;&gt;&gt; print(X)"
   ]
  },
  {
   "cell_type": "code",
   "execution_count": 8,
   "id": "fbf14ebf",
   "metadata": {},
   "outputs": [
    {
     "name": "stdout",
     "output_type": "stream",
     "text": [
      "NI\n",
      "iNeuron\n"
     ]
    }
   ],
   "source": [
    "X = 'iNeuron'\n",
    "def func():\n",
    "    X='NI'\n",
    "    print(X)\n",
    "func()\n",
    "print(X)"
   ]
  },
  {
   "cell_type": "markdown",
   "id": "5d3c592c",
   "metadata": {},
   "source": [
    "Answer-- The X for func is its local variable X=\"NI\", while for outside the function is the global variable X='iNeuron'"
   ]
  },
  {
   "cell_type": "markdown",
   "id": "b4075d89",
   "metadata": {},
   "source": [
    "4. What output does this code produce? Why?\n",
    "\n",
    "&gt;&gt;&gt; X = &#39;iNeuron&#39;\n",
    "\n",
    "&gt;&gt;&gt; def func():\n",
    "\n",
    "global X\n",
    "\n",
    "X = &#39;NI&#39;\n",
    "\n",
    "&gt;&gt;&gt; func()\n",
    "\n",
    "&gt;&gt;&gt; print(X)"
   ]
  },
  {
   "cell_type": "code",
   "execution_count": 9,
   "id": "94defe11",
   "metadata": {},
   "outputs": [
    {
     "name": "stdout",
     "output_type": "stream",
     "text": [
      "NI\n",
      "NI\n"
     ]
    }
   ],
   "source": [
    "X = 'iNeuron'\n",
    "def func():\n",
    "    global X\n",
    "    X='NI'\n",
    "    print(X)\n",
    "func()\n",
    "print(X)"
   ]
  },
  {
   "cell_type": "markdown",
   "id": "786f0f74",
   "metadata": {},
   "source": [
    "Answer-- By using the global keyword we are accessing the global variable X from inside the function func hence it gets \n",
    "updated to X=\"NI\" "
   ]
  },
  {
   "cell_type": "markdown",
   "id": "f66f56a6",
   "metadata": {},
   "source": [
    "5. What about this code—what’s the output, and why?\n",
    "\n",
    "&gt;&gt;&gt; X = &#39;iNeuron&#39;\n",
    "\n",
    "&gt;&gt;&gt; def func():\n",
    "\n",
    "X = &#39;NI&#39;\n",
    "\n",
    "def nested():\n",
    "\n",
    "print(X)\n",
    "\n",
    "nested()\n",
    "\n",
    "&gt;&gt;&gt; func()\n",
    "\n",
    "&gt;&gt;&gt; X"
   ]
  },
  {
   "cell_type": "code",
   "execution_count": 19,
   "id": "f724e000",
   "metadata": {},
   "outputs": [
    {
     "name": "stdout",
     "output_type": "stream",
     "text": [
      "NI\n"
     ]
    },
    {
     "data": {
      "text/plain": [
       "'iNeuron'"
      ]
     },
     "execution_count": 19,
     "metadata": {},
     "output_type": "execute_result"
    }
   ],
   "source": [
    "X = 'iNeuron'\n",
    "def func():\n",
    "    X='NI'\n",
    "    def nested():\n",
    "        print(X)\n",
    "    nested()\n",
    "\n",
    "func()\n",
    "X"
   ]
  },
  {
   "cell_type": "markdown",
   "id": "4f319c06",
   "metadata": {},
   "source": [
    "Answer-- Here the nested function is a closure and can access the state of the enclosing function, hence can access the X value of the enclosing function (here func()). As X variable is redined as local variable for func it doesn't change the \n",
    "global value of the X"
   ]
  },
  {
   "cell_type": "markdown",
   "id": "7190ef41",
   "metadata": {},
   "source": [
    "6. How about this code: what is its output in Python 3, and explain?\n",
    "\n",
    "&gt;&gt;&gt; def func():\n",
    "    \n",
    "X = &#39;NI&#39;\n",
    "\n",
    "def nested():\n",
    "\n",
    "nonlocal X\n",
    "\n",
    "X = &#39;Spam&#39;\n",
    "\n",
    "nested()\n",
    "\n",
    "print(X)\n",
    "\n",
    "&gt;&gt;&gt; func()"
   ]
  },
  {
   "cell_type": "code",
   "execution_count": 28,
   "id": "28f7a99f",
   "metadata": {},
   "outputs": [
    {
     "name": "stdout",
     "output_type": "stream",
     "text": [
      "iNeuron\n"
     ]
    }
   ],
   "source": [
    "X='iNeuron'\n",
    "def func():\n",
    "    X='NI'\n",
    "    def nested():\n",
    "        nonlocal X\n",
    "        X='Spam'\n",
    "        nested()\n",
    "        print(X)\n",
    "\n",
    "print(X)    \n",
    "func()"
   ]
  },
  {
   "cell_type": "markdown",
   "id": "0f6f4796",
   "metadata": {},
   "source": [
    "Answer-- The given code creates X to be nonlocal variable X inside nested func that will not be global but will have scope\n",
    "till the the function that immediately encloses it."
   ]
  },
  {
   "cell_type": "markdown",
   "id": "113e9590",
   "metadata": {},
   "source": [
    "Below code for showing the funcitonality of nonlocal"
   ]
  },
  {
   "cell_type": "code",
   "execution_count": 7,
   "id": "c4b3337c",
   "metadata": {},
   "outputs": [
    {
     "name": "stdout",
     "output_type": "stream",
     "text": [
      "iNeuron\n",
      "lvl nested Spam\n",
      "lvl func Spam\n",
      "lvl func_o  Alien\n"
     ]
    }
   ],
   "source": [
    "X='iNeuron'\n",
    "def func_o():\n",
    "    X='Alien'\n",
    "    def func():\n",
    "        X='NI'\n",
    "        def nested():\n",
    "            nonlocal X\n",
    "            X='Spam'\n",
    "            print(\"lvl nested\",X)\n",
    "        nested()\n",
    "        print(\"lvl func\",X)\n",
    "    func()    \n",
    "    print(\"lvl func_o \",X)\n",
    "    \n",
    "print(X)    \n",
    "func_o()\n"
   ]
  },
  {
   "cell_type": "code",
   "execution_count": null,
   "id": "ffb1df3f",
   "metadata": {},
   "outputs": [],
   "source": []
  }
 ],
 "metadata": {
  "kernelspec": {
   "display_name": "Python 3 (ipykernel)",
   "language": "python",
   "name": "python3"
  },
  "language_info": {
   "codemirror_mode": {
    "name": "ipython",
    "version": 3
   },
   "file_extension": ".py",
   "mimetype": "text/x-python",
   "name": "python",
   "nbconvert_exporter": "python",
   "pygments_lexer": "ipython3",
   "version": "3.9.7"
  }
 },
 "nbformat": 4,
 "nbformat_minor": 5
}
