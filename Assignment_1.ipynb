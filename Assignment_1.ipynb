{
 "cells": [
  {
   "cell_type": "markdown",
   "id": "345500e1",
   "metadata": {},
   "source": [
    "1. In the below elements which of them are values or an expression? eg:- values can be\n",
    "integer or string and expressions will be mathematical operators.\n",
    "*\n",
    "<br>hello\n",
    "<br>-87.8\n",
    "<br>-\n",
    "<br>/\n",
    "<br>+\n",
    "<br>6"
   ]
  },
  {
   "cell_type": "markdown",
   "id": "d1f6b526",
   "metadata": {},
   "source": [
    "Ans- values are 'hello', -87.8 and 6\n",
    "<br> expressions are *,-,/,+"
   ]
  },
  {
   "cell_type": "markdown",
   "id": "6e1b6652",
   "metadata": {},
   "source": [
    "2. What is the difference between string and variable?"
   ]
  },
  {
   "cell_type": "markdown",
   "id": "744c7d00",
   "metadata": {},
   "source": [
    "Ans- String is a immutable sequence data type storing Unicode characters wrapped inside single, double, or triple quotes. Whereas variable are containers for different types of data, eg- a variable var can store string, int, float etc any data type but a string variable will store unicode characters."
   ]
  },
  {
   "cell_type": "markdown",
   "id": "27e9af91",
   "metadata": {},
   "source": [
    "3. Describe three different data types.\n",
    "<br>Ans-The data-types are broadly divided into two broad categories\n",
    "<br> A. Primitve data types-\n",
    "<br>1.int- stores integers , eg-4,5,6\n",
    "<br>2.str- stores strings of Unicode characters, eg-\"hello\"\n",
    "<br>3.bool - stores boolean True and False\n",
    "<br>4.float- stores floating point no.s like decimals etc\n",
    "<br>B. Collection types-\n",
    "<br>1.list- ordered mutable collections  [item_1,item_2]\n",
    "<br>2.set-  unordered mutable unique elements' collection {item_1,item_2}\n",
    "<br>3.dict - stores data in form of key-value pairs {key_1:val_1,key_2:val_2}\n",
    "<br>4.tuple- immutable collection of data (item_1,item_2)"
   ]
  },
  {
   "cell_type": "markdown",
   "id": "4e5e8fcc",
   "metadata": {},
   "source": [
    "4. What is an expression made up of? What do all expressions do?\n",
    "<br> Ans-An expression is a combination of operators and operands that is interpreted to produce some value as an output. For eg we have an expression say 10+40 .Here 10 and 40 are operands while + is operator and the expression produces the sum of the two numbers as 50."
   ]
  },
  {
   "cell_type": "markdown",
   "id": "e474f5f2",
   "metadata": {},
   "source": [
    "5. This assignment statements, like spam = 10. What is the difference between an\n",
    "expression and a statement?\n",
    "<br>Ans- An expresion evaluates to a value like spam=10 whereas a statement is any instruction which is executed by the python interpreter. So spam=10 is both statement and expression while print(\"hello\") is only a statement and not an expression as the statement evaluates to no value,"
   ]
  },
  {
   "cell_type": "markdown",
   "id": "c191d758",
   "metadata": {},
   "source": [
    "6. After running the following code, what does the variable bacon contain?\n",
    "<br>bacon = 22\n",
    "<br>bacon + 1"
   ]
  },
  {
   "cell_type": "code",
   "execution_count": 3,
   "id": "fc9b3c97",
   "metadata": {},
   "outputs": [
    {
     "data": {
      "text/plain": [
       "23"
      ]
     },
     "execution_count": 3,
     "metadata": {},
     "output_type": "execute_result"
    }
   ],
   "source": [
    "bacon=22\n",
    "bacon+1"
   ]
  },
  {
   "cell_type": "code",
   "execution_count": 4,
   "id": "2a196f15",
   "metadata": {},
   "outputs": [
    {
     "data": {
      "text/plain": [
       "22"
      ]
     },
     "execution_count": 4,
     "metadata": {},
     "output_type": "execute_result"
    }
   ],
   "source": [
    "bacon"
   ]
  },
  {
   "cell_type": "markdown",
   "id": "a7052c53",
   "metadata": {},
   "source": [
    "Ans- bacon contains 22"
   ]
  },
  {
   "cell_type": "markdown",
   "id": "bd2d4a34",
   "metadata": {},
   "source": [
    "7. What should the values of the following two terms be?\n",
    "<br>'spam'+ 'spamspam'\n",
    "<br>'spam' * 3"
   ]
  },
  {
   "cell_type": "code",
   "execution_count": 5,
   "id": "617ca558",
   "metadata": {},
   "outputs": [
    {
     "data": {
      "text/plain": [
       "'spamspamspam'"
      ]
     },
     "execution_count": 5,
     "metadata": {},
     "output_type": "execute_result"
    }
   ],
   "source": [
    "'spam'+'spamspam'"
   ]
  },
  {
   "cell_type": "code",
   "execution_count": 6,
   "id": "655fadd4",
   "metadata": {},
   "outputs": [
    {
     "data": {
      "text/plain": [
       "'spamspamspam'"
      ]
     },
     "execution_count": 6,
     "metadata": {},
     "output_type": "execute_result"
    }
   ],
   "source": [
    "'spam'*3"
   ]
  },
  {
   "cell_type": "markdown",
   "id": "b2b87458",
   "metadata": {},
   "source": [
    "Ans- Both will give same value 'spamspamspam'"
   ]
  },
  {
   "cell_type": "markdown",
   "id": "5e6571cd",
   "metadata": {},
   "source": [
    "8. Why is eggs a valid variable name while 100 is invalid?\n",
    "<br> Ans- Because the variable name should not start with a number but can start from a alphabet. Eg-s100 is valid but not 100s"
   ]
  },
  {
   "cell_type": "markdown",
   "id": "35191409",
   "metadata": {},
   "source": [
    "9. What three functions can be used to get the integer, floating-point number, or string\n",
    "version of a value?\n",
    "<br> Ans- 1. int(var_name), 2.float(var_name) and 3.str(var_name)"
   ]
  },
  {
   "cell_type": "markdown",
   "id": "2a915efa",
   "metadata": {},
   "source": [
    "10. Why does this expression cause an error? How can you fix it?\n",
    "<br>'I have eaten' + 99 +'burritos'"
   ]
  },
  {
   "cell_type": "code",
   "execution_count": 12,
   "id": "e41a3c2c",
   "metadata": {},
   "outputs": [
    {
     "ename": "TypeError",
     "evalue": "can only concatenate str (not \"int\") to str",
     "output_type": "error",
     "traceback": [
      "\u001b[1;31m---------------------------------------------------------------------------\u001b[0m",
      "\u001b[1;31mTypeError\u001b[0m                                 Traceback (most recent call last)",
      "\u001b[1;32m<ipython-input-12-d07f901dbc9e>\u001b[0m in \u001b[0;36m<module>\u001b[1;34m\u001b[0m\n\u001b[1;32m----> 1\u001b[1;33m \u001b[1;34m'I have eaten'\u001b[0m \u001b[1;33m+\u001b[0m \u001b[1;36m99\u001b[0m \u001b[1;33m+\u001b[0m\u001b[1;34m'burritos'\u001b[0m\u001b[1;33m\u001b[0m\u001b[1;33m\u001b[0m\u001b[0m\n\u001b[0m",
      "\u001b[1;31mTypeError\u001b[0m: can only concatenate str (not \"int\") to str"
     ]
    }
   ],
   "source": [
    "'I have eaten' + 99 +'burritos'"
   ]
  },
  {
   "cell_type": "markdown",
   "id": "a6fd05bc",
   "metadata": {},
   "source": [
    "Ans- here 'I have eaten' and 'burritos' are strings while 99 is an integers, so can't concatenate interger with strings. The way to fix this is to typecast 99 to string as shown below"
   ]
  },
  {
   "cell_type": "code",
   "execution_count": 15,
   "id": "7590d17c",
   "metadata": {},
   "outputs": [
    {
     "data": {
      "text/plain": [
       "'I have eaten99burritos'"
      ]
     },
     "execution_count": 15,
     "metadata": {},
     "output_type": "execute_result"
    }
   ],
   "source": [
    "'I have eaten'+ str(99) +'burritos'"
   ]
  },
  {
   "cell_type": "code",
   "execution_count": null,
   "id": "d2dc9e6c",
   "metadata": {},
   "outputs": [],
   "source": []
  }
 ],
 "metadata": {
  "kernelspec": {
   "display_name": "Python 3",
   "language": "python",
   "name": "python3"
  },
  "language_info": {
   "codemirror_mode": {
    "name": "ipython",
    "version": 3
   },
   "file_extension": ".py",
   "mimetype": "text/x-python",
   "name": "python",
   "nbconvert_exporter": "python",
   "pygments_lexer": "ipython3",
   "version": "3.8.8"
  }
 },
 "nbformat": 4,
 "nbformat_minor": 5
}
