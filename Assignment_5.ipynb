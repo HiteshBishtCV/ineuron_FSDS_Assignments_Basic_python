{
 "cells": [
  {
   "cell_type": "markdown",
   "id": "5fd9d397",
   "metadata": {},
   "source": [
    "1. What does an empty dictionary&#39;s code look like?\n",
    "2. What is the value of a dictionary value with the key &#39;foo&#39; and the value 42?\n",
    "3. What is the most significant distinction between a dictionary and a list?\n",
    "4. What happens if you try to access spam[&#39;foo&#39;] if spam is {&#39;bar&#39;: 100}?\n",
    "5. If a dictionary is stored in spam, what is the difference between the expressions &#39;cat&#39; in spam and\n",
    "&#39;cat&#39; in spam.keys()?\n",
    "6. If a dictionary is stored in spam, what is the difference between the expressions &#39;cat&#39; in spam and\n",
    "&#39;cat&#39; in spam.values()?\n",
    "7. What is a shortcut for the following code?\n",
    "if &#39;color&#39; not in spam:\n",
    "spam[&#39;color&#39;] = &#39;black&#39;\n",
    "\n",
    "8. How do you &quot;pretty print&quot; dictionary values using which module and function?"
   ]
  },
  {
   "cell_type": "markdown",
   "id": "3eb7298e",
   "metadata": {},
   "source": [
    "1) d={}"
   ]
  },
  {
   "cell_type": "markdown",
   "id": "673e1322",
   "metadata": {},
   "source": [
    "2) 42"
   ]
  },
  {
   "cell_type": "markdown",
   "id": "138c1210",
   "metadata": {},
   "source": [
    "3) Dictionary contains key- value pairs unlike list which just contains values so dictionary elements can be accesses through some other values(keys) while for accessing items in list we need to use the indices"
   ]
  },
  {
   "cell_type": "markdown",
   "id": "7cb51a18",
   "metadata": {},
   "source": [
    "4) Will get a Keyerror"
   ]
  },
  {
   "cell_type": "code",
   "execution_count": 9,
   "id": "3c457402",
   "metadata": {},
   "outputs": [],
   "source": [
    "spam={'bar':100}"
   ]
  },
  {
   "cell_type": "code",
   "execution_count": 10,
   "id": "9e941384",
   "metadata": {},
   "outputs": [
    {
     "ename": "KeyError",
     "evalue": "'foo'",
     "output_type": "error",
     "traceback": [
      "\u001b[1;31m---------------------------------------------------------------------------\u001b[0m",
      "\u001b[1;31mKeyError\u001b[0m                                  Traceback (most recent call last)",
      "\u001b[1;32m~\\AppData\\Local\\Temp/ipykernel_3832/3999281786.py\u001b[0m in \u001b[0;36m<module>\u001b[1;34m\u001b[0m\n\u001b[1;32m----> 1\u001b[1;33m \u001b[0mspam\u001b[0m\u001b[1;33m[\u001b[0m\u001b[1;34m'foo'\u001b[0m\u001b[1;33m]\u001b[0m\u001b[1;33m\u001b[0m\u001b[1;33m\u001b[0m\u001b[0m\n\u001b[0m",
      "\u001b[1;31mKeyError\u001b[0m: 'foo'"
     ]
    }
   ],
   "source": [
    "spam['foo']"
   ]
  },
  {
   "cell_type": "markdown",
   "id": "f2f86243",
   "metadata": {},
   "source": [
    "5) 'cat' is searched for in the keys of the dicationary spam in either case"
   ]
  },
  {
   "cell_type": "code",
   "execution_count": 28,
   "id": "b937b8a8",
   "metadata": {},
   "outputs": [],
   "source": [
    "spam={'cat':334,'jsdkf':'sdfjsdf'}"
   ]
  },
  {
   "cell_type": "code",
   "execution_count": 29,
   "id": "c1e8c920",
   "metadata": {},
   "outputs": [
    {
     "data": {
      "text/plain": [
       "True"
      ]
     },
     "execution_count": 29,
     "metadata": {},
     "output_type": "execute_result"
    }
   ],
   "source": [
    "'cat' in spam"
   ]
  },
  {
   "cell_type": "code",
   "execution_count": 30,
   "id": "eba2566b",
   "metadata": {},
   "outputs": [
    {
     "data": {
      "text/plain": [
       "True"
      ]
     },
     "execution_count": 30,
     "metadata": {},
     "output_type": "execute_result"
    }
   ],
   "source": [
    "'cat' in spam.keys()"
   ]
  },
  {
   "cell_type": "markdown",
   "id": "09ac170b",
   "metadata": {},
   "source": [
    "6) 'cat' in spam.values() searches for 'cat' in the values of the dict while 'cat' in spam searches for the same in the keys"
   ]
  },
  {
   "cell_type": "code",
   "execution_count": 31,
   "id": "56552481",
   "metadata": {},
   "outputs": [
    {
     "data": {
      "text/plain": [
       "True"
      ]
     },
     "execution_count": 31,
     "metadata": {},
     "output_type": "execute_result"
    }
   ],
   "source": [
    "'cat' in spam"
   ]
  },
  {
   "cell_type": "code",
   "execution_count": 32,
   "id": "41f4aee8",
   "metadata": {},
   "outputs": [
    {
     "data": {
      "text/plain": [
       "False"
      ]
     },
     "execution_count": 32,
     "metadata": {},
     "output_type": "execute_result"
    }
   ],
   "source": [
    "'cat' in spam.values()"
   ]
  },
  {
   "cell_type": "markdown",
   "id": "ca686ddf",
   "metadata": {},
   "source": [
    "7) Shortcut for the following code is using update function for dictionary"
   ]
  },
  {
   "cell_type": "code",
   "execution_count": 48,
   "id": "ba998f6a",
   "metadata": {},
   "outputs": [],
   "source": [
    "if 'color' not in spam:\n",
    "    spam['color']='black'"
   ]
  },
  {
   "cell_type": "markdown",
   "id": "aab46a5c",
   "metadata": {},
   "source": [
    "is"
   ]
  },
  {
   "cell_type": "code",
   "execution_count": 49,
   "id": "8d3ecd58",
   "metadata": {},
   "outputs": [],
   "source": [
    "spam={'cat':334,'jsdkf':'sdfjsdf'}"
   ]
  },
  {
   "cell_type": "code",
   "execution_count": 53,
   "id": "d56ed11e",
   "metadata": {},
   "outputs": [
    {
     "data": {
      "text/plain": [
       "{'cat': 334, 'jsdkf': 'sdfjsdf', 'color': 'black'}"
      ]
     },
     "execution_count": 53,
     "metadata": {},
     "output_type": "execute_result"
    }
   ],
   "source": [
    "spam.update({'color':'black'})\n",
    "spam\n",
    "spam.update({'color':'black'})\n",
    "spam"
   ]
  },
  {
   "cell_type": "markdown",
   "id": "de44d4bf",
   "metadata": {},
   "source": [
    "8) The following is the way to 'pretty print' dictionary values, we use the module pprint and use function pprint.pprint(dict_name)"
   ]
  },
  {
   "cell_type": "code",
   "execution_count": 36,
   "id": "19c87140",
   "metadata": {},
   "outputs": [],
   "source": [
    "import pprint"
   ]
  },
  {
   "cell_type": "code",
   "execution_count": 37,
   "id": "55fda39e",
   "metadata": {},
   "outputs": [
    {
     "name": "stdout",
     "output_type": "stream",
     "text": [
      "{'cat': 334, 'color': 'black', 'jsdkf': 'sdfjsdf'}\n"
     ]
    }
   ],
   "source": [
    "pprint.pprint(spam)"
   ]
  },
  {
   "cell_type": "code",
   "execution_count": null,
   "id": "da08c93b",
   "metadata": {},
   "outputs": [],
   "source": []
  },
  {
   "cell_type": "code",
   "execution_count": null,
   "id": "82e44ea8",
   "metadata": {},
   "outputs": [],
   "source": []
  }
 ],
 "metadata": {
  "kernelspec": {
   "display_name": "Python 3 (ipykernel)",
   "language": "python",
   "name": "python3"
  },
  "language_info": {
   "codemirror_mode": {
    "name": "ipython",
    "version": 3
   },
   "file_extension": ".py",
   "mimetype": "text/x-python",
   "name": "python",
   "nbconvert_exporter": "python",
   "pygments_lexer": "ipython3",
   "version": "3.9.7"
  }
 },
 "nbformat": 4,
 "nbformat_minor": 5
}
