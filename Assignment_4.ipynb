{
 "cells": [
  {
   "cell_type": "markdown",
   "id": "a8de1f2d",
   "metadata": {},
   "source": [
    "1. What exactly is []?\n",
    "2. In a list of values stored in a variable called spam, how would you assign the value &#39;hello&#39; as the\n",
    "third value? (Assume [2, 4, 6, 8, 10] are in spam.)\n",
    "Let&#39;s pretend the spam includes the list [&#39;a&#39;, &#39;b&#39;, &#39;c&#39;, &#39;d&#39;] for the next three queries.\n",
    "3. What is the value of spam[int(int(&#39;3&#39; * 2) / 11)]?\n",
    "4. What is the value of spam[-1]?\n",
    "5. What is the value of spam[:2]?\n",
    "Let&#39;s pretend bacon has the list [3.14, &#39;cat,&#39; 11, &#39;cat,&#39; True] for the next three questions.\n",
    "6. What is the value of bacon.index(&#39;cat&#39;)?\n",
    "7. How does bacon.append(99) change the look of the list value in bacon?\n",
    "8. How does bacon.remove(&#39;cat&#39;) change the look of the list in bacon?\n",
    "9. What are the list concatenation and list replication operators?\n",
    "10. What is difference between the list methods append() and insert()?\n",
    "11. What are the two methods for removing items from a list?\n",
    "12. Describe how list values and string values are identical.\n",
    "13. What&#39;s the difference between tuples and lists?\n",
    "14. How do you type a tuple value that only contains the integer 42?\n",
    "15. How do you get a list value&#39;s tuple form? How do you get a tuple value&#39;s list form?\n",
    "16. Variables that &quot;contain&quot; list values are not necessarily lists themselves. Instead, what do they\n",
    "contain?\n",
    "17. How do you distinguish between copy.copy() and copy.deepcopy()?"
   ]
  },
  {
   "cell_type": "markdown",
   "id": "d5612963",
   "metadata": {},
   "source": [
    "1) [] is an empty list."
   ]
  },
  {
   "cell_type": "markdown",
   "id": "56464c64",
   "metadata": {},
   "source": [
    "2) spam[2]=\"hello\""
   ]
  },
  {
   "cell_type": "markdown",
   "id": "4dd0138d",
   "metadata": {},
   "source": [
    "3) 4"
   ]
  },
  {
   "cell_type": "markdown",
   "id": "850399b7",
   "metadata": {},
   "source": [
    "4) 4"
   ]
  },
  {
   "cell_type": "markdown",
   "id": "00812a02",
   "metadata": {},
   "source": [
    "5)spam[:2] will give 1 and 2"
   ]
  },
  {
   "cell_type": "code",
   "execution_count": 14,
   "id": "7fdc223e",
   "metadata": {},
   "outputs": [
    {
     "data": {
      "text/plain": [
       "[1, 2]"
      ]
     },
     "execution_count": 14,
     "metadata": {},
     "output_type": "execute_result"
    }
   ],
   "source": [
    "spam=[1,2,3,4]\n",
    "spam[2]='hello' #prob 2\n",
    "spam[int(int('3'*2)/11)] #prob 3\n",
    "spam[-1]  # prob 4\n",
    "spam[:2]     #prob 5"
   ]
  },
  {
   "cell_type": "code",
   "execution_count": 21,
   "id": "70b4bbe0",
   "metadata": {},
   "outputs": [
    {
     "data": {
      "text/plain": [
       "[3.14, 11, 'cat', True, 99]"
      ]
     },
     "execution_count": 21,
     "metadata": {},
     "output_type": "execute_result"
    }
   ],
   "source": [
    "bacon=[3.14,'cat',11,'cat',True]\n",
    "bacon.index('cat')\n",
    "bacon.append(99)\n",
    "bacon.remove('cat')\n",
    "bacon"
   ]
  },
  {
   "cell_type": "markdown",
   "id": "66d7881e",
   "metadata": {},
   "source": [
    "6) bacon.index('cat') gives 1 which is the forst index of the 'cat'"
   ]
  },
  {
   "cell_type": "markdown",
   "id": "5f1b63dd",
   "metadata": {},
   "source": [
    "7) adds one more list element in the end '99'"
   ]
  },
  {
   "cell_type": "markdown",
   "id": "af51baa2",
   "metadata": {},
   "source": [
    "8) Removes the 1st instance of 'cat' element from the list"
   ]
  },
  {
   "cell_type": "markdown",
   "id": "143ba49c",
   "metadata": {},
   "source": [
    "9) List concatenation operator + and list replication operator is *\n"
   ]
  },
  {
   "cell_type": "code",
   "execution_count": 29,
   "id": "5562553f",
   "metadata": {},
   "outputs": [
    {
     "data": {
      "text/plain": [
       "[1, 2, 'hello', 4, 3.14, 11, 'cat', True, 99]"
      ]
     },
     "execution_count": 29,
     "metadata": {},
     "output_type": "execute_result"
    }
   ],
   "source": [
    "a=spam+bacon\n",
    "a"
   ]
  },
  {
   "cell_type": "code",
   "execution_count": 30,
   "id": "3e75f19e",
   "metadata": {},
   "outputs": [
    {
     "data": {
      "text/plain": [
       "[1, 2, 'hello', 4, 1, 2, 'hello', 4, 1, 2, 'hello', 4]"
      ]
     },
     "execution_count": 30,
     "metadata": {},
     "output_type": "execute_result"
    }
   ],
   "source": [
    "b=spam*3\n",
    "b"
   ]
  },
  {
   "cell_type": "markdown",
   "id": "e357656a",
   "metadata": {},
   "source": [
    "10) In append method we add the new element at the last of the list while with insert we can insert it any index location we wish at."
   ]
  },
  {
   "cell_type": "code",
   "execution_count": 31,
   "id": "ef027c31",
   "metadata": {},
   "outputs": [
    {
     "data": {
      "text/plain": [
       "[1, 2, 'hello', 4, 3.14, 11, 'cat', True, 99, 'append']"
      ]
     },
     "execution_count": 31,
     "metadata": {},
     "output_type": "execute_result"
    }
   ],
   "source": [
    "a.append('append')\n",
    "a"
   ]
  },
  {
   "cell_type": "code",
   "execution_count": 32,
   "id": "3b29ac78",
   "metadata": {},
   "outputs": [
    {
     "data": {
      "text/plain": [
       "[1, 'insert', 2, 'hello', 4, 3.14, 11, 'cat', True, 99, 'append']"
      ]
     },
     "execution_count": 32,
     "metadata": {},
     "output_type": "execute_result"
    }
   ],
   "source": [
    "a.insert(1,'insert')\n",
    "a"
   ]
  },
  {
   "cell_type": "markdown",
   "id": "a5af25c6",
   "metadata": {},
   "source": [
    "11) three methods of removing items from list are remove ,del and pop\n",
    "<br> remove requires passing the item itself\n",
    "<br> del and pop removeds using index and returns the removed item"
   ]
  },
  {
   "cell_type": "code",
   "execution_count": 33,
   "id": "eb89bb17",
   "metadata": {},
   "outputs": [
    {
     "data": {
      "text/plain": [
       "[1, 2, 'hello', 4, 3.14, 11, 'cat', True, 99, 'append']"
      ]
     },
     "execution_count": 33,
     "metadata": {},
     "output_type": "execute_result"
    }
   ],
   "source": [
    "a.remove('insert')\n",
    "a"
   ]
  },
  {
   "cell_type": "code",
   "execution_count": 34,
   "id": "f42737e5",
   "metadata": {},
   "outputs": [
    {
     "data": {
      "text/plain": [
       "[1, 2, 4, 3.14, 11, 'cat', True, 99, 'append']"
      ]
     },
     "execution_count": 34,
     "metadata": {},
     "output_type": "execute_result"
    }
   ],
   "source": [
    "del a[2]\n",
    "a"
   ]
  },
  {
   "cell_type": "code",
   "execution_count": 35,
   "id": "ae18026f",
   "metadata": {},
   "outputs": [
    {
     "data": {
      "text/plain": [
       "'append'"
      ]
     },
     "execution_count": 35,
     "metadata": {},
     "output_type": "execute_result"
    }
   ],
   "source": [
    "a.pop(-1)   "
   ]
  },
  {
   "cell_type": "markdown",
   "id": "94dcf9f6",
   "metadata": {},
   "source": [
    "12) List values and string values are identical in the way be access them, list slicing and string slicing operations are same"
   ]
  },
  {
   "cell_type": "code",
   "execution_count": 37,
   "id": "de55a7fa",
   "metadata": {},
   "outputs": [
    {
     "data": {
      "text/plain": [
       "'m'"
      ]
     },
     "execution_count": 37,
     "metadata": {},
     "output_type": "execute_result"
    }
   ],
   "source": [
    "st=\"I am writing the assignment\"\n",
    "st[3]    # indexing similar"
   ]
  },
  {
   "cell_type": "code",
   "execution_count": 38,
   "id": "e2bbc447",
   "metadata": {},
   "outputs": [
    {
     "data": {
      "text/plain": [
       "' am w'"
      ]
     },
     "execution_count": 38,
     "metadata": {},
     "output_type": "execute_result"
    }
   ],
   "source": [
    "st[1:6]   # slicing operation similar"
   ]
  },
  {
   "cell_type": "code",
   "execution_count": null,
   "id": "ea243db4",
   "metadata": {},
   "outputs": [],
   "source": []
  },
  {
   "cell_type": "markdown",
   "id": "57bf481f",
   "metadata": {},
   "source": [
    "13) Difference between list and tuples are\n"
   ]
  },
  {
   "cell_type": "markdown",
   "id": "f1d14bb7",
   "metadata": {},
   "source": [
    "List defined as [] while tuple defined as ()\n",
    "<br> list are mutable while tuples not\n",
    "<br> list consumes more memory\n",
    "<br> list good for insertion and deletation type operations while tuples good for keeping data as constant (no changes to be made at any point)"
   ]
  },
  {
   "cell_type": "markdown",
   "id": "d0f778e4",
   "metadata": {},
   "source": [
    "14)"
   ]
  },
  {
   "cell_type": "code",
   "execution_count": 46,
   "id": "671e3716",
   "metadata": {},
   "outputs": [
    {
     "data": {
      "text/plain": [
       "42"
      ]
     },
     "execution_count": 46,
     "metadata": {},
     "output_type": "execute_result"
    }
   ],
   "source": [
    "a=(42)\n",
    "a"
   ]
  },
  {
   "cell_type": "markdown",
   "id": "9ac40520",
   "metadata": {},
   "source": [
    "15) typecasting"
   ]
  },
  {
   "cell_type": "code",
   "execution_count": 48,
   "id": "ab31d632",
   "metadata": {},
   "outputs": [
    {
     "data": {
      "text/plain": [
       "(12, 3, 3, 45)"
      ]
     },
     "execution_count": 48,
     "metadata": {},
     "output_type": "execute_result"
    }
   ],
   "source": [
    "tuple([12,3,3,45])"
   ]
  },
  {
   "cell_type": "code",
   "execution_count": 49,
   "id": "3702b540",
   "metadata": {},
   "outputs": [
    {
     "data": {
      "text/plain": [
       "[23, 45, 45]"
      ]
     },
     "execution_count": 49,
     "metadata": {},
     "output_type": "execute_result"
    }
   ],
   "source": [
    "list((23,45,45))"
   ]
  },
  {
   "cell_type": "markdown",
   "id": "2f86f80c",
   "metadata": {},
   "source": [
    "16) They can be anything-- tuple, list or a dictionary."
   ]
  },
  {
   "cell_type": "code",
   "execution_count": 91,
   "id": "d833e66f",
   "metadata": {},
   "outputs": [
    {
     "ename": "TypeError",
     "evalue": "unhashable type: 'list'",
     "output_type": "error",
     "traceback": [
      "\u001b[1;31m---------------------------------------------------------------------------\u001b[0m",
      "\u001b[1;31mTypeError\u001b[0m                                 Traceback (most recent call last)",
      "\u001b[1;32m~\\AppData\\Local\\Temp/ipykernel_37712/3327441342.py\u001b[0m in \u001b[0;36m<module>\u001b[1;34m\u001b[0m\n\u001b[1;32m----> 1\u001b[1;33m \u001b[0ma\u001b[0m\u001b[1;33m=\u001b[0m\u001b[1;33m{\u001b[0m\u001b[1;36m12\u001b[0m\u001b[1;33m,\u001b[0m\u001b[1;33m[\u001b[0m\u001b[1;36m23\u001b[0m\u001b[1;33m,\u001b[0m\u001b[1;36m323\u001b[0m\u001b[1;33m,\u001b[0m\u001b[1;36m23\u001b[0m\u001b[1;33m]\u001b[0m\u001b[1;33m,\u001b[0m\u001b[1;36m343\u001b[0m\u001b[1;33m}\u001b[0m  \u001b[1;31m# not possible with set\u001b[0m\u001b[1;33m\u001b[0m\u001b[1;33m\u001b[0m\u001b[0m\n\u001b[0m",
      "\u001b[1;31mTypeError\u001b[0m: unhashable type: 'list'"
     ]
    }
   ],
   "source": [
    "a={12,[23,323,23],343}  # not possible with set"
   ]
  },
  {
   "cell_type": "markdown",
   "id": "adeaf634",
   "metadata": {},
   "source": [
    "# Sir can you expalain why i am getting this error, i know that list is unshable and set is also mutable and only immutable objects can be hashable so why am i getting this error\n"
   ]
  },
  {
   "cell_type": "code",
   "execution_count": 57,
   "id": "39c2c894",
   "metadata": {},
   "outputs": [],
   "source": [
    "b={1:[3,4,34]}     #possible with dict"
   ]
  },
  {
   "cell_type": "code",
   "execution_count": 58,
   "id": "c28da7a2",
   "metadata": {},
   "outputs": [],
   "source": [
    " b=([32432,234,34],'asdf') #possible with tuple"
   ]
  },
  {
   "cell_type": "markdown",
   "id": "0eceae23",
   "metadata": {},
   "source": [
    "17) Copy.copy() is shallow copy while copy.deepcopy() is deep copy. The diferrence is that in shallow copy the data will be copied at another memory location and the two variables will refer to the two different location. But say if one item was a list itself so shallow copy will copy the reference of the location to the new variable therefore if we make any changes inside the nested list that will be reflected through both the variables because the variable only contain the ref to the location of the nested list and not the list itself. When we use deep copy not only do we create the copy of the list but also create copies of the list inside list hence any change made at any level won't get reflected in the other list."
   ]
  },
  {
   "cell_type": "code",
   "execution_count": 86,
   "id": "f080bc2b",
   "metadata": {},
   "outputs": [
    {
     "data": {
      "text/plain": [
       "True"
      ]
     },
     "execution_count": 86,
     "metadata": {},
     "output_type": "execute_result"
    }
   ],
   "source": [
    "import copy\n",
    "a=[[34,322,23,23,23],34]\n",
    "b=copy.copy(a)\n",
    "b[0][0]=0\n",
    "b==a"
   ]
  },
  {
   "cell_type": "code",
   "execution_count": 87,
   "id": "fec69df6",
   "metadata": {},
   "outputs": [
    {
     "data": {
      "text/plain": [
       "False"
      ]
     },
     "execution_count": 87,
     "metadata": {},
     "output_type": "execute_result"
    }
   ],
   "source": [
    "import copy\n",
    "a=[[34,322,23,23,23],34]\n",
    "b=copy.deepcopy(a)\n",
    "b[0][0]=0\n",
    "b==a"
   ]
  },
  {
   "cell_type": "code",
   "execution_count": null,
   "id": "46389f61",
   "metadata": {},
   "outputs": [],
   "source": []
  }
 ],
 "metadata": {
  "kernelspec": {
   "display_name": "Python 3 (ipykernel)",
   "language": "python",
   "name": "python3"
  },
  "language_info": {
   "codemirror_mode": {
    "name": "ipython",
    "version": 3
   },
   "file_extension": ".py",
   "mimetype": "text/x-python",
   "name": "python",
   "nbconvert_exporter": "python",
   "pygments_lexer": "ipython3",
   "version": "3.9.7"
  }
 },
 "nbformat": 4,
 "nbformat_minor": 5
}
