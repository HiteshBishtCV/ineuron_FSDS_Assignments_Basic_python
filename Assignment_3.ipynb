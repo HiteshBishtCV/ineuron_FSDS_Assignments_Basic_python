{
 "cells": [
  {
   "cell_type": "markdown",
   "id": "617498d8",
   "metadata": {},
   "source": [
    "1. Why are functions advantageous to have in your programs?\n",
    "2. When does the code in a function run: when it&#39;s specified or when it&#39;s called?\n",
    "3. What statement creates a function?\n",
    "4. What is the difference between a function and a function call?\n",
    "5. How many global scopes are there in a Python program? How many local scopes?\n",
    "6. What happens to variables in a local scope when the function call returns?\n",
    "7. What is the concept of a return value? Is it possible to have a return value in an expression?\n",
    "8. If a function does not have a return statement, what is the return value of a call to that function?\n",
    "9. How do you make a function variable refer to the global variable?\n",
    "10. What is the data type of None?\n",
    "11. What does the sentence import areallyourpetsnamederic do?\n",
    "12. If you had a bacon() feature in a spam module, what would you call it after importing spam?\n",
    "13. What can you do to save a programme from crashing if it encounters an error?\n",
    "14. What is the purpose of the try clause? What is the purpose of the except clause?"
   ]
  },
  {
   "cell_type": "markdown",
   "id": "a9478c49",
   "metadata": {},
   "source": [
    "Ans"
   ]
  },
  {
   "cell_type": "markdown",
   "id": "2929649a",
   "metadata": {},
   "source": [
    "1) functions enable resuability of the code as the whole operation can be done by calling the function with the new set of arguments rather than writing the whole logic agian"
   ]
  },
  {
   "cell_type": "markdown",
   "id": "51892200",
   "metadata": {},
   "source": [
    "2) Function in code run when its called and not when its specified."
   ]
  },
  {
   "cell_type": "markdown",
   "id": "e12b2d9b",
   "metadata": {},
   "source": [
    "3) The def statement creates a funciton"
   ]
  },
  {
   "cell_type": "markdown",
   "id": "a0ce9b4e",
   "metadata": {},
   "source": [
    "4) Function refer to the logic for the definition of the function while the call to function runs the function logic with the argments given in the function's call."
   ]
  },
  {
   "cell_type": "markdown",
   "id": "bd84de8a",
   "metadata": {},
   "source": [
    "5) There are four scopes in Python in order of there priority are- Built-in, Global, Enclosed Global and local. So there are 1 type of Global and 1 type of local scopes."
   ]
  },
  {
   "cell_type": "markdown",
   "id": "5d9e3798",
   "metadata": {},
   "source": [
    "6) The local variables gets destroyed."
   ]
  },
  {
   "cell_type": "markdown",
   "id": "aa851665",
   "metadata": {},
   "source": [
    "7) Inside the function's definition we use return is used to return the output from the function's logic. It it possible to have return value in expression inside the function definition but not outside it."
   ]
  },
  {
   "cell_type": "code",
   "execution_count": 10,
   "id": "af158955",
   "metadata": {},
   "outputs": [],
   "source": [
    "def add(a,b):\n",
    "    return a+b"
   ]
  },
  {
   "cell_type": "code",
   "execution_count": 11,
   "id": "f380cf8f",
   "metadata": {},
   "outputs": [
    {
     "data": {
      "text/plain": [
       "11"
      ]
     },
     "execution_count": 11,
     "metadata": {},
     "output_type": "execute_result"
    }
   ],
   "source": [
    "add(5,6)"
   ]
  },
  {
   "cell_type": "code",
   "execution_count": 12,
   "id": "11151345",
   "metadata": {},
   "outputs": [
    {
     "ename": "SyntaxError",
     "evalue": "'return' outside function (<ipython-input-12-35435f6ab529>, line 1)",
     "output_type": "error",
     "traceback": [
      "\u001b[1;36m  File \u001b[1;32m\"<ipython-input-12-35435f6ab529>\"\u001b[1;36m, line \u001b[1;32m1\u001b[0m\n\u001b[1;33m    return a+b\u001b[0m\n\u001b[1;37m    ^\u001b[0m\n\u001b[1;31mSyntaxError\u001b[0m\u001b[1;31m:\u001b[0m 'return' outside function\n"
     ]
    }
   ],
   "source": [
    "return a+b"
   ]
  },
  {
   "cell_type": "markdown",
   "id": "a7cc6b3c",
   "metadata": {},
   "source": [
    "Doesn't work outside the def of the function."
   ]
  },
  {
   "cell_type": "markdown",
   "id": "8a2ac922",
   "metadata": {},
   "source": [
    "8) If no return statemnt present then the return value to the function call will be nothing and if we check the data type of the call we get NoneType"
   ]
  },
  {
   "cell_type": "code",
   "execution_count": 17,
   "id": "90e05745",
   "metadata": {},
   "outputs": [],
   "source": [
    "def func(a):\n",
    "    b=5\n",
    "    a=a+b"
   ]
  },
  {
   "cell_type": "code",
   "execution_count": 18,
   "id": "fdeb14e9",
   "metadata": {},
   "outputs": [],
   "source": [
    "func(4)"
   ]
  },
  {
   "cell_type": "code",
   "execution_count": 16,
   "id": "6514492a",
   "metadata": {},
   "outputs": [
    {
     "data": {
      "text/plain": [
       "NoneType"
      ]
     },
     "execution_count": 16,
     "metadata": {},
     "output_type": "execute_result"
    }
   ],
   "source": [
    "type(func(4))"
   ]
  },
  {
   "cell_type": "markdown",
   "id": "95412506",
   "metadata": {},
   "source": [
    "9) Need to write a line 'global variable_name\" before using it inside the local scope."
   ]
  },
  {
   "cell_type": "code",
   "execution_count": 22,
   "id": "fc511e47",
   "metadata": {},
   "outputs": [
    {
     "name": "stdout",
     "output_type": "stream",
     "text": [
      "1\n",
      "2\n"
     ]
    }
   ],
   "source": [
    "glo_var=1\n",
    "print(glo_var)\n",
    "def glo_var_change():\n",
    "    global glo_var\n",
    "    glo_var=2\n",
    "glo_var_change()    \n",
    "print(glo_var)"
   ]
  },
  {
   "cell_type": "markdown",
   "id": "efb32eac",
   "metadata": {},
   "source": [
    "10) NoneType"
   ]
  },
  {
   "cell_type": "code",
   "execution_count": 23,
   "id": "e8ba9727",
   "metadata": {},
   "outputs": [
    {
     "data": {
      "text/plain": [
       "NoneType"
      ]
     },
     "execution_count": 23,
     "metadata": {},
     "output_type": "execute_result"
    }
   ],
   "source": [
    "type(None)"
   ]
  },
  {
   "cell_type": "markdown",
   "id": "ee574a82",
   "metadata": {},
   "source": [
    "11) The sentence import areallyourpetsnamederic imports the module/Package areallyourpetsnamederic"
   ]
  },
  {
   "cell_type": "markdown",
   "id": "109b1780",
   "metadata": {},
   "source": [
    "12) spam.bacon()"
   ]
  },
  {
   "cell_type": "markdown",
   "id": "34075173",
   "metadata": {},
   "source": [
    "13) To save it from crashing we can use the exception handling by using the try except block"
   ]
  },
  {
   "cell_type": "markdown",
   "id": "09292a5b",
   "metadata": {},
   "source": [
    "14) The try block is used to keep the suspicious that might give error and incase it does the except block gets executed saving the whole program from crashing."
   ]
  },
  {
   "cell_type": "code",
   "execution_count": null,
   "id": "aba30f62",
   "metadata": {},
   "outputs": [],
   "source": []
  }
 ],
 "metadata": {
  "kernelspec": {
   "display_name": "Python 3",
   "language": "python",
   "name": "python3"
  },
  "language_info": {
   "codemirror_mode": {
    "name": "ipython",
    "version": 3
   },
   "file_extension": ".py",
   "mimetype": "text/x-python",
   "name": "python",
   "nbconvert_exporter": "python",
   "pygments_lexer": "ipython3",
   "version": "3.8.8"
  }
 },
 "nbformat": 4,
 "nbformat_minor": 5
}
