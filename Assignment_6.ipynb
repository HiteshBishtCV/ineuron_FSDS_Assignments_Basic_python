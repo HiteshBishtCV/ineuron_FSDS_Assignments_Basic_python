{
 "cells": [
  {
   "cell_type": "markdown",
   "id": "f5b212b0",
   "metadata": {},
   "source": [
    "1. What are escape characters, and how do you use them?\n",
    "2. What do the escape characters n and t stand for?\n",
    "3. What is the way to include backslash characters in a string?\n",
    "4. The string &quot;Howl&#39;s Moving Castle&quot; is a correct value. Why isn&#39;t the single quote character in the\n",
    "word Howl&#39;s not escaped a problem?\n",
    "5. How do you write a string of newlines if you don&#39;t want to use the n character?\n",
    "6. What are the values of the given expressions?\n",
    "&#39;Hello, world!&#39;[1]\n",
    "&#39;Hello, world!&#39;[0:5]\n",
    "&#39;Hello, world!&#39;[:5]\n",
    "&#39;Hello, world!&#39;[3:]\n",
    "\n",
    "7. What are the values of the following expressions?\n",
    "&#39;Hello&#39;.upper()\n",
    "&#39;Hello&#39;.upper().isupper()\n",
    "&#39;Hello&#39;.upper().lower()\n",
    "8. What are the values of the following expressions?\n",
    "&#39;Remember, remember, the fifth of July.&#39;.split()\n",
    "&#39;-&#39;.join(&#39;There can only one.&#39;.split())\n",
    "9. What are the methods for right-justifying, left-justifying, and centering a string?\n",
    "10. What is the best way to remove whitespace characters from the start or end?"
   ]
  },
  {
   "cell_type": "markdown",
   "id": "2ad6e600",
   "metadata": {},
   "source": [
    "1) Escape characters are characters used to insert special symbols which otherwwise have different meaning or to perform some text formatting. Like \\t  gives 3 white spaces or tab."
   ]
  },
  {
   "cell_type": "markdown",
   "id": "0e3163ce",
   "metadata": {},
   "source": [
    "2) \\n stands fpr newline, moves the pointer to the newline while \\t gives horizontal tab."
   ]
  },
  {
   "cell_type": "markdown",
   "id": "09e73b10",
   "metadata": {},
   "source": [
    "3) The way to include blackslash is to use 2 blackslashes"
   ]
  },
  {
   "cell_type": "code",
   "execution_count": 7,
   "id": "97154eec",
   "metadata": {},
   "outputs": [
    {
     "name": "stdout",
     "output_type": "stream",
     "text": [
      "ABC\\abc\n"
     ]
    }
   ],
   "source": [
    "print(\"ABC\\\\abc\")"
   ]
  },
  {
   "cell_type": "markdown",
   "id": "c75b8afd",
   "metadata": {},
   "source": [
    "4)As we have use \" \" double inverted commas to define the string any single inverted quotes will be considered string and will not give error."
   ]
  },
  {
   "cell_type": "code",
   "execution_count": 9,
   "id": "b6686fa0",
   "metadata": {},
   "outputs": [
    {
     "name": "stdout",
     "output_type": "stream",
     "text": [
      "Howl's Moving Castle\n"
     ]
    }
   ],
   "source": [
    "print(\"Howl's Moving Castle\")"
   ]
  },
  {
   "cell_type": "markdown",
   "id": "e8c44d0d",
   "metadata": {},
   "source": [
    "5) We can use the triple inverted commas as below"
   ]
  },
  {
   "cell_type": "code",
   "execution_count": 16,
   "id": "3ad56aae",
   "metadata": {},
   "outputs": [
    {
     "name": "stdout",
     "output_type": "stream",
     "text": [
      "The string is \n",
      "prited in the way it is written\n"
     ]
    }
   ],
   "source": [
    "print('''The string is \n",
    "prited in the way it is written''')"
   ]
  },
  {
   "cell_type": "markdown",
   "id": "35aa83f9",
   "metadata": {},
   "source": [
    "6) The outputs are"
   ]
  },
  {
   "cell_type": "code",
   "execution_count": 17,
   "id": "f567fc9d",
   "metadata": {},
   "outputs": [
    {
     "data": {
      "text/plain": [
       "'e'"
      ]
     },
     "execution_count": 17,
     "metadata": {},
     "output_type": "execute_result"
    }
   ],
   "source": [
    "'Hello,world!'[1]"
   ]
  },
  {
   "cell_type": "code",
   "execution_count": 18,
   "id": "9184d8d7",
   "metadata": {},
   "outputs": [
    {
     "data": {
      "text/plain": [
       "'Hello'"
      ]
     },
     "execution_count": 18,
     "metadata": {},
     "output_type": "execute_result"
    }
   ],
   "source": [
    "'Hello,world!'[0:5]"
   ]
  },
  {
   "cell_type": "code",
   "execution_count": 19,
   "id": "1190ec87",
   "metadata": {},
   "outputs": [
    {
     "data": {
      "text/plain": [
       "'Hello'"
      ]
     },
     "execution_count": 19,
     "metadata": {},
     "output_type": "execute_result"
    }
   ],
   "source": [
    "'Hello,world!'[:5]"
   ]
  },
  {
   "cell_type": "code",
   "execution_count": 20,
   "id": "834d250f",
   "metadata": {},
   "outputs": [
    {
     "data": {
      "text/plain": [
       "'lo,world!'"
      ]
     },
     "execution_count": 20,
     "metadata": {},
     "output_type": "execute_result"
    }
   ],
   "source": [
    "'Hello,world!'[3:]"
   ]
  },
  {
   "cell_type": "markdown",
   "id": "ac25b41f",
   "metadata": {},
   "source": [
    "7) The outputs are"
   ]
  },
  {
   "cell_type": "code",
   "execution_count": 21,
   "id": "2dc874a0",
   "metadata": {},
   "outputs": [
    {
     "data": {
      "text/plain": [
       "'HELLO'"
      ]
     },
     "execution_count": 21,
     "metadata": {},
     "output_type": "execute_result"
    }
   ],
   "source": [
    "'Hello'.upper()"
   ]
  },
  {
   "cell_type": "code",
   "execution_count": 22,
   "id": "bb687084",
   "metadata": {},
   "outputs": [
    {
     "data": {
      "text/plain": [
       "True"
      ]
     },
     "execution_count": 22,
     "metadata": {},
     "output_type": "execute_result"
    }
   ],
   "source": [
    "'Hello'.upper().isupper()"
   ]
  },
  {
   "cell_type": "code",
   "execution_count": 23,
   "id": "5a90dd65",
   "metadata": {},
   "outputs": [
    {
     "data": {
      "text/plain": [
       "'hello'"
      ]
     },
     "execution_count": 23,
     "metadata": {},
     "output_type": "execute_result"
    }
   ],
   "source": [
    "'Hello'.upper().lower()"
   ]
  },
  {
   "cell_type": "markdown",
   "id": "a3d281ef",
   "metadata": {},
   "source": [
    "8)"
   ]
  },
  {
   "cell_type": "code",
   "execution_count": 24,
   "id": "8ce7d315",
   "metadata": {},
   "outputs": [
    {
     "data": {
      "text/plain": [
       "['Remember,', 'remember,', 'the', 'fifth', 'of', 'July.']"
      ]
     },
     "execution_count": 24,
     "metadata": {},
     "output_type": "execute_result"
    }
   ],
   "source": [
    "'Remember, remember, the fifth of July.'.split()"
   ]
  },
  {
   "cell_type": "code",
   "execution_count": 25,
   "id": "80ba65e0",
   "metadata": {},
   "outputs": [
    {
     "data": {
      "text/plain": [
       "'There-can-only-one.'"
      ]
     },
     "execution_count": 25,
     "metadata": {},
     "output_type": "execute_result"
    }
   ],
   "source": [
    "'-'.join('There can only one.'.split())"
   ]
  },
  {
   "cell_type": "markdown",
   "id": "925d84a8",
   "metadata": {},
   "source": [
    "9) The methods are ljust(), rjust(), center()"
   ]
  },
  {
   "cell_type": "code",
   "execution_count": 42,
   "id": "410e7379",
   "metadata": {},
   "outputs": [
    {
     "data": {
      "text/plain": [
       "'The name is Joker lsdfjlsdf                                                                         '"
      ]
     },
     "execution_count": 42,
     "metadata": {},
     "output_type": "execute_result"
    }
   ],
   "source": [
    "'''The name is Joker lsdfjlsdf'''.ljust(100)"
   ]
  },
  {
   "cell_type": "code",
   "execution_count": 41,
   "id": "edfa1bb3",
   "metadata": {},
   "outputs": [
    {
     "data": {
      "text/plain": [
       "'                                                                         The name is Joker lsdfjlsdf'"
      ]
     },
     "execution_count": 41,
     "metadata": {},
     "output_type": "execute_result"
    }
   ],
   "source": [
    "'''The name is Joker lsdfjlsdf'''.rjust(100)"
   ]
  },
  {
   "cell_type": "code",
   "execution_count": 43,
   "id": "e9033e01",
   "metadata": {},
   "outputs": [
    {
     "data": {
      "text/plain": [
       "'                                    The name is Joker lsdfjlsdf                                     '"
      ]
     },
     "execution_count": 43,
     "metadata": {},
     "output_type": "execute_result"
    }
   ],
   "source": [
    "'''The name is Joker lsdfjlsdf'''.center(100)"
   ]
  },
  {
   "cell_type": "markdown",
   "id": "13cc60fc",
   "metadata": {},
   "source": [
    "10)strip method"
   ]
  },
  {
   "cell_type": "code",
   "execution_count": 44,
   "id": "99f7e7d8",
   "metadata": {},
   "outputs": [
    {
     "data": {
      "text/plain": [
       "'The name of the cartoon is Tom and Jerry'"
      ]
     },
     "execution_count": 44,
     "metadata": {},
     "output_type": "execute_result"
    }
   ],
   "source": [
    "\"    The name of the cartoon is Tom and Jerry\".strip()"
   ]
  },
  {
   "cell_type": "code",
   "execution_count": null,
   "id": "fa9d1550",
   "metadata": {},
   "outputs": [],
   "source": []
  }
 ],
 "metadata": {
  "kernelspec": {
   "display_name": "Python 3 (ipykernel)",
   "language": "python",
   "name": "python3"
  },
  "language_info": {
   "codemirror_mode": {
    "name": "ipython",
    "version": 3
   },
   "file_extension": ".py",
   "mimetype": "text/x-python",
   "name": "python",
   "nbconvert_exporter": "python",
   "pygments_lexer": "ipython3",
   "version": "3.9.7"
  }
 },
 "nbformat": 4,
 "nbformat_minor": 5
}
