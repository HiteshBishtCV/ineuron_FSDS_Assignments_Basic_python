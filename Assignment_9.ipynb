{
 "cells": [
  {
   "cell_type": "markdown",
   "id": "bca0c208",
   "metadata": {},
   "source": [
    "1. To what does a relative path refer?\n",
    "2. What does an absolute path start with your operating system?\n",
    "3. What do the functions os.getcwd() and os.chdir() do?\n",
    "4. What are the . and .. folders?\n",
    "5. In C:\\bacon\\eggs\\spam.txt, which part is the dir name, and which part is the base name?\n",
    "6. What are the three “mode” arguments that can be passed to the open() function?\n",
    "7. What happens if an existing file is opened in write mode?\n",
    "8. How do you tell the difference between read() and readlines()?\n",
    "9. What data structure does a shelf value resemble?"
   ]
  },
  {
   "cell_type": "markdown",
   "id": "abf9d706",
   "metadata": {},
   "source": [
    "1. Relative path refers to path with respect to the current working directory. Say I am currently in the Parent_folder folder\n",
    "which contains the Child_folder then cd Child_folder will bring me inside this child folder. But if we use absolute path that \n",
    "would like \" C: \\Users\\   \\Parent_folder\\Child_folder\"."
   ]
  },
  {
   "cell_type": "markdown",
   "id": "981c10e8",
   "metadata": {},
   "source": [
    "2. Absolute path in varios OS are as follows\n",
    " <br> Windows C:\\ \n",
    " <br> Linux   /"
   ]
  },
  {
   "cell_type": "markdown",
   "id": "681175c4",
   "metadata": {},
   "source": [
    "3. os.getcwd()   gives the path to the current working directory\n",
    "  <br> os.chdir()    changes the directory to the path argument passed to this function"
   ]
  },
  {
   "cell_type": "markdown",
   "id": "c8a7d6e8",
   "metadata": {},
   "source": [
    "4.    . is shorthand for “this directory”\n",
    "   <br>   .. is shorthand for “the parent directory\""
   ]
  },
  {
   "cell_type": "markdown",
   "id": "1719cdc5",
   "metadata": {},
   "source": [
    "5. C:\\bacon\\eggs\\         is the dir name\n",
    " <br>   spam.txt              base name"
   ]
  },
  {
   "cell_type": "markdown",
   "id": "22e8958c",
   "metadata": {},
   "source": [
    "6. The three basic ones are append, read and write."
   ]
  },
  {
   "cell_type": "markdown",
   "id": "14c1407c",
   "metadata": {},
   "source": [
    "7. It will get over-written."
   ]
  },
  {
   "cell_type": "markdown",
   "id": "9ec74931",
   "metadata": {},
   "source": [
    "8.  The read() method passes the entire file as a string whereas readlines() method provides a list of \n",
    "<br>string values - one string for each line of text."
   ]
  },
  {
   "cell_type": "markdown",
   "id": "03209d54",
   "metadata": {},
   "source": [
    "9. A shelf value resembles a dictionary value; it has keys and values, along with keys() and values() methods\n",
    "<br>that work similarly to the dictionary methods of the same names."
   ]
  },
  {
   "cell_type": "code",
   "execution_count": null,
   "id": "b0a17070",
   "metadata": {},
   "outputs": [],
   "source": []
  }
 ],
 "metadata": {
  "kernelspec": {
   "display_name": "Python 3 (ipykernel)",
   "language": "python",
   "name": "python3"
  },
  "language_info": {
   "codemirror_mode": {
    "name": "ipython",
    "version": 3
   },
   "file_extension": ".py",
   "mimetype": "text/x-python",
   "name": "python",
   "nbconvert_exporter": "python",
   "pygments_lexer": "ipython3",
   "version": "3.9.7"
  }
 },
 "nbformat": 4,
 "nbformat_minor": 5
}
