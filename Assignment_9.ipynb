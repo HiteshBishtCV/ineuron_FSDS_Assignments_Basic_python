{
 "cells": [
  {
   "cell_type": "raw",
   "id": "a238b1b4",
   "metadata": {},
   "source": [
    "1. To what does a relative path refer?\n",
    "2. What does an absolute path start with your operating system?\n",
    "3. What do the functions os.getcwd() and os.chdir() do?\n",
    "4. What are the . and .. folders?\n",
    "5. In C:\\bacon\\eggs\\spam.txt, which part is the dir name, and which part is the base name?\n",
    "6. What are the three “mode” arguments that can be passed to the open() function?\n",
    "7. What happens if an existing file is opened in write mode?\n",
    "8. How do you tell the difference between read() and readlines()?\n",
    "9. What data structure does a shelf value resemble?"
   ]
  },
  {
   "cell_type": "raw",
   "id": "fd045819",
   "metadata": {},
   "source": [
    "1. Relative path refers to path with respect to the current working directory. Say I am currently in the Parent_folder folder\n",
    "which contains the Child_folder then cd Child_folder will bring me inside this child folder. But if we use absolute path that \n",
    "would like \" C: \\Users\\   \\Parent_folder\\Child_folder\"."
   ]
  },
  {
   "cell_type": "raw",
   "id": "144ebb98",
   "metadata": {},
   "source": [
    "2. Absolute path in varios OS are as follows\n",
    "  Windows C:\\ \n",
    "  Linux   /"
   ]
  },
  {
   "cell_type": "raw",
   "id": "ef07040c",
   "metadata": {},
   "source": [
    "3. os.getcwd()   gives the path to the current working directory\n",
    "   os.chdir()    changes the directory to the path argument passed to this function"
   ]
  },
  {
   "cell_type": "raw",
   "id": "d6c9aa12",
   "metadata": {},
   "source": [
    "4.    . is shorthand for “this directory”\n",
    "      .. is shorthand for “the parent directory\""
   ]
  },
  {
   "cell_type": "raw",
   "id": "f000859c",
   "metadata": {},
   "source": [
    "5. C:\\bacon\\eggs\\         is the dir name\n",
    "    spam.txt              base name"
   ]
  },
  {
   "cell_type": "raw",
   "id": "bf77182f",
   "metadata": {},
   "source": [
    "6. The three basic ones are append, read and write."
   ]
  },
  {
   "cell_type": "raw",
   "id": "139dfc67",
   "metadata": {},
   "source": [
    "7. It will get over-written."
   ]
  },
  {
   "cell_type": "raw",
   "id": "d4eb6cad",
   "metadata": {},
   "source": [
    "8.  The read() method passes the entire file as a string whereas readlines() method provides a list of \n",
    "string values - one string for each line of text."
   ]
  },
  {
   "cell_type": "raw",
   "id": "c88a0f94",
   "metadata": {},
   "source": [
    "9.A shelf value resembles a dictionary value; it has keys and values, along with keys() and values() methods\n",
    "that work similarly to the dictionary methods of the same names."
   ]
  }
 ],
 "metadata": {
  "kernelspec": {
   "display_name": "Python 3 (ipykernel)",
   "language": "python",
   "name": "python3"
  },
  "language_info": {
   "codemirror_mode": {
    "name": "ipython",
    "version": 3
   },
   "file_extension": ".py",
   "mimetype": "text/x-python",
   "name": "python",
   "nbconvert_exporter": "python",
   "pygments_lexer": "ipython3",
   "version": "3.9.7"
  }
 },
 "nbformat": 4,
 "nbformat_minor": 5
}
