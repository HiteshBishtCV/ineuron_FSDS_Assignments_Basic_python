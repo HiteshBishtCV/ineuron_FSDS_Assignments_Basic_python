{
 "cells": [
  {
   "cell_type": "markdown",
   "id": "2eca1f7e",
   "metadata": {},
   "source": [
    "1).What are the two values of the Boolean data type? How do you write them?\n"
   ]
  },
  {
   "cell_type": "markdown",
   "id": "5db24eec",
   "metadata": {},
   "source": [
    "Ans- The 2 values are True and False. The way we write them is True and False"
   ]
  },
  {
   "cell_type": "markdown",
   "id": "f9b0b25b",
   "metadata": {},
   "source": [
    "2). What are the three different types of Boolean operators?"
   ]
  },
  {
   "cell_type": "markdown",
   "id": "6e737c36",
   "metadata": {},
   "source": [
    "Ans- The three Boolean operators are -AND, OR and NOT."
   ]
  },
  {
   "cell_type": "markdown",
   "id": "e8b22098",
   "metadata": {},
   "source": [
    "3). Make a list of each Boolean operator&#39;s truth tables (i.e. every possible combination of Boolean\n",
    "values for the operator and what it evaluate )."
   ]
  },
  {
   "cell_type": "markdown",
   "id": "797fe4f5",
   "metadata": {},
   "source": [
    "Truth table for all boolean operators"
   ]
  },
  {
   "cell_type": "markdown",
   "id": "2b621107",
   "metadata": {},
   "source": [
    "| A | B | A and B | A or B| not A|\n",
    "| --- | --- | --- |---|---|\n",
    "| 0 | 0 | 0 | 0 | 1 |\n",
    "| 0 | 1| 0 | 1 | 1 |\n",
    "| 1 | 0| 0 | 1 | 0 |\n",
    "| 1 | 1| 1 | 1 | 0 |"
   ]
  },
  {
   "cell_type": "markdown",
   "id": "25fd3d74",
   "metadata": {},
   "source": [
    "4). What are the values of the following expressions?\n",
    "<br>(5 &gt; 4) and (3 == 5)\n",
    "<br>not (5 &gt; 4)\n",
    "<br>(5 &gt; 4) or (3 == 5)\n",
    "<br>not ((5 &gt; 4) or (3 == 5))\n",
    "<br>(True and True) and (True == False)\n",
    "<br>(not False) or (not True)"
   ]
  },
  {
   "cell_type": "markdown",
   "id": "e57f0cdb",
   "metadata": {},
   "source": [
    "Ans-<br>1. (5 &gt; 4) and (3 == 5) gives False\n",
    "<br>2. not (5 &gt; 4) gives False\n",
    "<br>3. (5 &gt; 4) or (3 == 5) gives True\n",
    "<br>4. not ((5 &gt; 4) or (3 == 5)) gives False\n",
    "<br>5. (True and True) and (True == False) gives False\n",
    "<br>6. (not False) or (not True) gives True"
   ]
  },
  {
   "cell_type": "markdown",
   "id": "fb639b6c",
   "metadata": {},
   "source": [
    "5). What are the six comparison operators?"
   ]
  },
  {
   "cell_type": "markdown",
   "id": "14c02bb1",
   "metadata": {},
   "source": [
    "Ans-1. More than >\n",
    "<br>2. More than or equal to >=\n",
    "<br>3. Less than <\n",
    "<br>4. Less than or equal to <=\n",
    "<br>5. equal to ==\n",
    "<br>6. not equal to !=\n"
   ]
  },
  {
   "cell_type": "markdown",
   "id": "9c91b330",
   "metadata": {},
   "source": [
    "6). How do you tell the difference between the equal to and assignment operators?Describe a\n",
    "condition and when you would use one."
   ]
  },
  {
   "cell_type": "markdown",
   "id": "8de6ff3e",
   "metadata": {},
   "source": [
    "Ans- Equal to is comparison operator where we compare the values of two variable or values (var_1==var_2) so useful for comparing to vaiables while assignment operator assign values to a variable (variable=5) so useful to assign values to variables."
   ]
  },
  {
   "cell_type": "markdown",
   "id": "19e2d6db",
   "metadata": {},
   "source": [
    "7). Identify the three blocks in this code:\n",
    "spam = 0\n",
    "if spam == 10:\n",
    "print(&#39;eggs&#39;)\n",
    "if spam &gt; 5:\n",
    "print(&#39;bacon&#39;)\n",
    "else:\n",
    "print(&#39;ham&#39;)\n",
    "print(&#39;spam&#39;)\n",
    "print(&#39;spam&#39;)"
   ]
  },
  {
   "cell_type": "markdown",
   "id": "1cc00219",
   "metadata": {},
   "source": [
    "Block-1"
   ]
  },
  {
   "cell_type": "code",
   "execution_count": 3,
   "id": "12a2b389",
   "metadata": {},
   "outputs": [],
   "source": [
    "spam=0\n",
    "if spam==10:\n",
    "    print('eggs')"
   ]
  },
  {
   "cell_type": "markdown",
   "id": "9c02a223",
   "metadata": {},
   "source": [
    "Block-2"
   ]
  },
  {
   "cell_type": "code",
   "execution_count": 4,
   "id": "26d74e4a",
   "metadata": {},
   "outputs": [
    {
     "name": "stdout",
     "output_type": "stream",
     "text": [
      "ham\n"
     ]
    }
   ],
   "source": [
    "if spam>5:\n",
    "    print('bacon')\n",
    "else:\n",
    "    print('ham')\n",
    "    "
   ]
  },
  {
   "cell_type": "markdown",
   "id": "45ea3fd7",
   "metadata": {},
   "source": [
    "Block-3"
   ]
  },
  {
   "cell_type": "code",
   "execution_count": 5,
   "id": "be1b3640",
   "metadata": {},
   "outputs": [
    {
     "name": "stdout",
     "output_type": "stream",
     "text": [
      "spam\n",
      "spam\n"
     ]
    }
   ],
   "source": [
    "print('spam')\n",
    "print('spam')"
   ]
  },
  {
   "cell_type": "markdown",
   "id": "71a3d387",
   "metadata": {},
   "source": [
    "8). Write code that prints Hello if 1 is stored in spam, prints Howdy if 2 is stored in spam, and prints\n",
    "Greetings! if anything else is stored in spam."
   ]
  },
  {
   "cell_type": "code",
   "execution_count": 7,
   "id": "d9c30cdd",
   "metadata": {},
   "outputs": [],
   "source": [
    "spam=[1,2,3,4,5]"
   ]
  },
  {
   "cell_type": "code",
   "execution_count": 9,
   "id": "c67a4b0c",
   "metadata": {},
   "outputs": [
    {
     "name": "stdout",
     "output_type": "stream",
     "text": [
      "Hello\n",
      "Howdy\n"
     ]
    }
   ],
   "source": [
    "if 1 in spam:\n",
    "    print(\"Hello\")\n",
    "if 2 in spam:\n",
    "    print(\"Howdy\")\n",
    "else:\n",
    "    print(\"Greetings\")"
   ]
  },
  {
   "cell_type": "markdown",
   "id": "2f1ffa8a",
   "metadata": {},
   "source": [
    "9).If your programme is stuck in an endless loop, what keys you’ll press?"
   ]
  },
  {
   "cell_type": "markdown",
   "id": "0dd763c2",
   "metadata": {},
   "source": [
    "Ans- Ctrl +C in terminal and I + I in Juypter notebook"
   ]
  },
  {
   "cell_type": "markdown",
   "id": "3949bd4b",
   "metadata": {},
   "source": [
    "10). How can you tell the difference between break and continue?"
   ]
  },
  {
   "cell_type": "markdown",
   "id": "b59b82a2",
   "metadata": {},
   "source": [
    "Ans- break stops the loop and brings us out of the loop while continue skips any code written below continue in the current iteration while countinuing the loop."
   ]
  },
  {
   "cell_type": "markdown",
   "id": "c5fc05ca",
   "metadata": {},
   "source": [
    "11). In a for loop, what is the difference between range(10), range(0, 10), and range(0, 10, 1)?"
   ]
  },
  {
   "cell_type": "markdown",
   "id": "e9ca0774",
   "metadata": {},
   "source": [
    "Ans- NO differnece as by default if we don't supply all the arguments then the staring value is taken as 0 and step size is taken as 1."
   ]
  },
  {
   "cell_type": "code",
   "execution_count": 28,
   "id": "e3565022",
   "metadata": {},
   "outputs": [
    {
     "name": "stdout",
     "output_type": "stream",
     "text": [
      "0\n",
      "1\n",
      "2\n",
      "3\n",
      "4\n",
      "5\n",
      "6\n",
      "7\n",
      "8\n",
      "9\n"
     ]
    }
   ],
   "source": [
    "for i in range(10):\n",
    "    print(i)\n",
    "   "
   ]
  },
  {
   "cell_type": "code",
   "execution_count": 26,
   "id": "17bff135",
   "metadata": {},
   "outputs": [
    {
     "name": "stdout",
     "output_type": "stream",
     "text": [
      "0\n",
      "1\n",
      "2\n",
      "3\n",
      "4\n",
      "5\n",
      "6\n",
      "7\n",
      "8\n",
      "9\n"
     ]
    }
   ],
   "source": [
    "for i in range(0,10):\n",
    "    print(i)"
   ]
  },
  {
   "cell_type": "code",
   "execution_count": 27,
   "id": "2277ce36",
   "metadata": {},
   "outputs": [
    {
     "name": "stdout",
     "output_type": "stream",
     "text": [
      "0\n",
      "1\n",
      "2\n",
      "3\n",
      "4\n",
      "5\n",
      "6\n",
      "7\n",
      "8\n",
      "9\n"
     ]
    }
   ],
   "source": [
    "for i in range(0,10,1):\n",
    "    print(i)"
   ]
  },
  {
   "cell_type": "markdown",
   "id": "2f30e576",
   "metadata": {},
   "source": [
    "12). Write a short program that prints the numbers 1 to 10 using a for loop. Then write an equivalent\n",
    "program that prints the numbers 1 to 10 using a while loop."
   ]
  },
  {
   "cell_type": "code",
   "execution_count": 29,
   "id": "382578e6",
   "metadata": {},
   "outputs": [
    {
     "name": "stdout",
     "output_type": "stream",
     "text": [
      "1\n",
      "2\n",
      "3\n",
      "4\n",
      "5\n",
      "6\n",
      "7\n",
      "8\n",
      "9\n",
      "10\n"
     ]
    }
   ],
   "source": [
    "for i in range(1,11):\n",
    "    print(i)"
   ]
  },
  {
   "cell_type": "code",
   "execution_count": 31,
   "id": "509b7c39",
   "metadata": {},
   "outputs": [
    {
     "name": "stdout",
     "output_type": "stream",
     "text": [
      "1\n",
      "2\n",
      "3\n",
      "4\n",
      "5\n",
      "6\n",
      "7\n",
      "8\n",
      "9\n",
      "10\n"
     ]
    }
   ],
   "source": [
    "i=1\n",
    "while(i<11):\n",
    "    print(i)\n",
    "    i+=1"
   ]
  },
  {
   "cell_type": "markdown",
   "id": "8ff93c88",
   "metadata": {},
   "source": [
    "13). If you had a function named bacon() inside a module named spam, how would you call it after\n",
    "importing spam?"
   ]
  },
  {
   "cell_type": "markdown",
   "id": "6c21f926",
   "metadata": {},
   "source": [
    "we can call it using 3 different ways\n",
    "<br> 1. import spam\n",
    "<br> spam.bacon()\n",
    "<br> 2. from spam import bacon\n",
    "<br> bacon()\n",
    "<br> 3. from spam import *\n",
    "<br> bacon()"
   ]
  },
  {
   "cell_type": "code",
   "execution_count": null,
   "id": "21a5dd6b",
   "metadata": {},
   "outputs": [],
   "source": []
  },
  {
   "cell_type": "code",
   "execution_count": null,
   "id": "57caf179",
   "metadata": {},
   "outputs": [],
   "source": []
  }
 ],
 "metadata": {
  "kernelspec": {
   "display_name": "Python 3",
   "language": "python",
   "name": "python3"
  },
  "language_info": {
   "codemirror_mode": {
    "name": "ipython",
    "version": 3
   },
   "file_extension": ".py",
   "mimetype": "text/x-python",
   "name": "python",
   "nbconvert_exporter": "python",
   "pygments_lexer": "ipython3",
   "version": "3.8.8"
  }
 },
 "nbformat": 4,
 "nbformat_minor": 5
}
